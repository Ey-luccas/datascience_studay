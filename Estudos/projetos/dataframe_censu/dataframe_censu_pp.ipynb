{
 "cells": [
  {
   "cell_type": "code",
   "execution_count": 3,
   "metadata": {},
   "outputs": [],
   "source": [
    "import pandas as pd\n",
    "import numpy as np\n",
    "import seaborn as sns\n",
    "import matplotlib.pyplot as plt\n",
    "import plotly.express as px\n",
    "from sklearn.preprocessing import StandardScaler "
   ]
  },
  {
   "cell_type": "code",
   "execution_count": 4,
   "metadata": {},
   "outputs": [],
   "source": [
    "adult_data = r\"C:\\Users\\eyluc\\Documents\\ESTUDO -- 'data scientist'\\Eydatascience\\Estudos\\Datasets\\datasets_not_csv\\adult.data\"\n",
    "columns = [\n",
    "      \"age\", \"workclass\", \"fnlwgt\", \"education\", \"education_num\",\n",
    "      \"marital_status\", \"occupation\", \"relationship\", \"race\",\n",
    "      \"sex\", \"capital_gain\", \"capital_loss\", \"hours_per_week\",\n",
    "      \"native_country\", \"income\"\n",
    "  ]\n",
    "data = pd.read_csv(adult_data, header=None, names=columns, skipinitialspace=True)\n",
    "csv_output_path = r\"C:\\Users\\eyluc\\Documents\\ESTUDO -- 'data scientist'\\Eydatascience\\Estudos\\Datasets\\csv\\adult.csv\"\n",
    "data.to_csv(csv_output_path, index=False)"
   ]
  },
  {
   "cell_type": "code",
   "execution_count": 5,
   "metadata": {},
   "outputs": [],
   "source": [
    "dataset_censu = pd.read_csv(\"C:/Users/eyluc/Documents/ESTUDO -- 'data scientist'/Eydatascience/Estudos/Datasets/csv/adult.csv\")"
   ]
  }
 ],
 "metadata": {
  "kernelspec": {
   "display_name": "Python 3",
   "language": "python",
   "name": "python3"
  },
  "language_info": {
   "codemirror_mode": {
    "name": "ipython",
    "version": 3
   },
   "file_extension": ".py",
   "mimetype": "text/x-python",
   "name": "python",
   "nbconvert_exporter": "python",
   "pygments_lexer": "ipython3",
   "version": "3.13.1"
  }
 },
 "nbformat": 4,
 "nbformat_minor": 2
}
